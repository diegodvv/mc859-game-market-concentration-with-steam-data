{
 "cells": [
  {
   "cell_type": "markdown",
   "metadata": {},
   "source": [
    "# Export steam applist\n",
    "\n",
    "This notebook should be used to export the app list (with details about the app, not just the id) that is scraped using the `./steam-applist-scraper.py` script, since it stores the information in a binary file. This notebook will export the list in a JSON file.\n",
    "\n",
    "To reduce the size of the final file from 2 GB to 1 GB, only apps that are games (that excludes demos and helper programs), have already been released and are not free are kept. This filtering is done with the below code.\n",
    "\n",
    "```py\n",
    "filtered_apps = {appid: details for appid, details in apps_dict.items() if (\n",
    "    not details['is_free']) and details['type'] == 'game' and (not details['release_date']['coming_soon'])}\n",
    "len(filtered_apps)\n",
    "```"
   ]
  },
  {
   "cell_type": "code",
   "execution_count": 1,
   "metadata": {},
   "outputs": [],
   "source": [
    "import pickle\n",
    "from pathlib import Path\n",
    "import os\n",
    "\n",
    "checkpoint_folder = Path(\"checkpoints\")\n",
    "\n",
    "apps_dict_filename_prefix = 'apps_dict'\n",
    "exc_apps_filename_prefix = 'excluded_apps_list'\n",
    "error_apps_filename_prefix = 'error_apps_list'\n",
    "\n",
    "apps_dict = {}\n",
    "excluded_apps_list = []\n",
    "error_apps_list = []"
   ]
  },
  {
   "cell_type": "code",
   "execution_count": 2,
   "metadata": {},
   "outputs": [],
   "source": [
    "def check_latest_checkpoints(checkpoint_folder, apps_dict_filename_prefix, exc_apps_filename_prefix, error_apps_filename_prefix):\n",
    "    # app_dict\n",
    "    all_pkl = []\n",
    "    \n",
    "    for root, dirs, files in os.walk(checkpoint_folder):\n",
    "        all_pkl = list(map(lambda f: Path(root, f), files))\n",
    "        all_pkl = [p for p in all_pkl if p.suffix == '.p']\n",
    "        break\n",
    "            \n",
    "    apps_dict_ckpt_files = [f for f in all_pkl if apps_dict_filename_prefix in f.name and \"ckpt\" in f.name]\n",
    "    exc_apps_list_ckpt_files = [f for f in all_pkl if exc_apps_filename_prefix in f.name and \"ckpt\" in f.name]\n",
    "    error_apps_ckpt_files = [f for f in all_pkl if error_apps_filename_prefix in f.name and 'ckpt' in f.name]\n",
    "\n",
    "    apps_dict_ckpt_files.sort()\n",
    "    exc_apps_list_ckpt_files.sort()\n",
    "    error_apps_ckpt_files.sort()\n",
    "\n",
    "    latest_apps_dict_ckpt_path = apps_dict_ckpt_files[-1] if apps_dict_ckpt_files else None\n",
    "    latest_exc_apps_list_ckpt_path = exc_apps_list_ckpt_files[-1] if exc_apps_list_ckpt_files else None\n",
    "    latest_error_apps_list_ckpt_path = error_apps_ckpt_files[-1] if error_apps_ckpt_files else None\n",
    "\n",
    "    return latest_apps_dict_ckpt_path, latest_exc_apps_list_ckpt_path, latest_error_apps_list_ckpt_path"
   ]
  },
  {
   "cell_type": "code",
   "execution_count": 3,
   "metadata": {},
   "outputs": [],
   "source": [
    "def load_pickle(path_to_load:Path) -> dict:\n",
    "    obj = pickle.load(open(path_to_load, \"rb\"))\n",
    "    # print(f'Successfully loaded {str(path_to_load)}')\n",
    "    \n",
    "    return obj"
   ]
  },
  {
   "cell_type": "code",
   "execution_count": 4,
   "metadata": {},
   "outputs": [],
   "source": [
    "if not checkpoint_folder.exists():\n",
    "    print(f'Fail to find checkpoint folder: {checkpoint_folder}')\n",
    "    print(f'Start at blank.')"
   ]
  },
  {
   "cell_type": "code",
   "execution_count": 5,
   "metadata": {},
   "outputs": [
    {
     "name": "stdout",
     "output_type": "stream",
     "text": [
      "Successfully load apps_dict checkpoint: checkpoints/apps_dict-ckpt-fin.p\n",
      "Number of apps in apps_dict: 237721\n",
      "Successfully load excluded_apps_list checkpoint: checkpoints/excluded_apps_list-ckpt-fin.p\n",
      "Number of apps in excluded_apps_list: 25321\n",
      "Successfully load error_apps_list checkpoint: checkpoints/error_apps_list-ckpt-fin.p\n",
      "Number of apps in error_apps_list: 264\n"
     ]
    }
   ],
   "source": [
    "latest_apps_dict_ckpt_path, latest_exc_apps_list_ckpt_path, latest_error_apps_list_ckpt_path = check_latest_checkpoints(checkpoint_folder, apps_dict_filename_prefix, exc_apps_filename_prefix, error_apps_filename_prefix)\n",
    "\n",
    "if latest_apps_dict_ckpt_path:\n",
    "    apps_dict = load_pickle(latest_apps_dict_ckpt_path)\n",
    "    print('Successfully load apps_dict checkpoint:', latest_apps_dict_ckpt_path)\n",
    "    print(f'Number of apps in apps_dict: {len(apps_dict)}')\n",
    "\n",
    "if latest_exc_apps_list_ckpt_path:\n",
    "    excluded_apps_list = load_pickle(latest_exc_apps_list_ckpt_path)\n",
    "    print(\"Successfully load excluded_apps_list checkpoint:\", latest_exc_apps_list_ckpt_path)\n",
    "    print(f'Number of apps in excluded_apps_list: {len(excluded_apps_list)}')\n",
    "\n",
    "if latest_error_apps_list_ckpt_path:\n",
    "    error_apps_list = load_pickle(latest_error_apps_list_ckpt_path)\n",
    "    print(\"Successfully load error_apps_list checkpoint:\", latest_error_apps_list_ckpt_path)\n",
    "    print(f'Number of apps in error_apps_list: {len(error_apps_list)}')"
   ]
  },
  {
   "cell_type": "code",
   "execution_count": 6,
   "metadata": {},
   "outputs": [],
   "source": [
    "apps_dict_keys = list(apps_dict.keys())"
   ]
  },
  {
   "cell_type": "code",
   "execution_count": 7,
   "metadata": {},
   "outputs": [
    {
     "data": {
      "text/plain": [
       "['type',\n",
       " 'name',\n",
       " 'steam_appid',\n",
       " 'required_age',\n",
       " 'is_free',\n",
       " 'detailed_description',\n",
       " 'about_the_game',\n",
       " 'short_description',\n",
       " 'fullgame',\n",
       " 'header_image',\n",
       " 'capsule_image',\n",
       " 'capsule_imagev5',\n",
       " 'website',\n",
       " 'pc_requirements',\n",
       " 'mac_requirements',\n",
       " 'linux_requirements',\n",
       " 'developers',\n",
       " 'publishers',\n",
       " 'package_groups',\n",
       " 'platforms',\n",
       " 'categories',\n",
       " 'release_date',\n",
       " 'support_info',\n",
       " 'background',\n",
       " 'background_raw',\n",
       " 'content_descriptors',\n",
       " 'ratings',\n",
       " 'appid']"
      ]
     },
     "execution_count": 7,
     "metadata": {},
     "output_type": "execute_result"
    }
   ],
   "source": [
    "list(apps_dict[apps_dict_keys[0]].keys())"
   ]
  },
  {
   "cell_type": "code",
   "execution_count": 9,
   "metadata": {},
   "outputs": [
    {
     "data": {
      "text/plain": [
       "{'type': 'demo',\n",
       " 'name': '天才退魔師才不會屈服於觸手妖魔 Demo',\n",
       " 'steam_appid': 3145730,\n",
       " 'required_age': 0,\n",
       " 'is_free': True,\n",
       " 'detailed_description': '',\n",
       " 'about_the_game': '',\n",
       " 'short_description': '',\n",
       " 'fullgame': {'appid': '2799920',\n",
       "  'name': \"Talented Exorcist won't submit to Tentacle Demon\"},\n",
       " 'header_image': 'https://shared.akamai.steamstatic.com/store_item_assets/steam/apps/3145730/header.jpg?t=1728289934',\n",
       " 'capsule_image': 'https://shared.akamai.steamstatic.com/store_item_assets/steam/apps/3145730/0e58fa032cb39d4df5d8899135fa6e07b6835555/capsule_231x87.jpg?t=1728289934',\n",
       " 'capsule_imagev5': 'https://shared.akamai.steamstatic.com/store_item_assets/steam/apps/3145730/0e58fa032cb39d4df5d8899135fa6e07b6835555/capsule_184x69.jpg?t=1728289934',\n",
       " 'website': None,\n",
       " 'pc_requirements': {'minimum': '<strong>Minimum:</strong><br><ul class=\"bb_ul\"><li><strong>OS *:</strong> Windows® 7/8/8.1/10/11<br></li><li><strong>Processor:</strong> Intel Core2 Duo or better<br></li><li><strong>Memory:</strong> 4 GB RAM<br></li><li><strong>Graphics:</strong> DirectX 9/OpenGL 4.1 capable GPU<br></li><li><strong>DirectX:</strong> Version 9.0<br></li><li><strong>Storage:</strong> 1 GB available space</li></ul>',\n",
       "  'recommended': '<strong>Recommended:</strong><br><ul class=\"bb_ul\"><li><strong>OS *:</strong> Windows® 7/8/8.1/10/11<br></li><li><strong>Processor:</strong> 2+ GHz Processor<br></li><li><strong>Memory:</strong> 4 GB RAM<br></li><li><strong>Graphics:</strong> OpenGL ES 2.0 hardware driver support required for WebGL acceleration. (AMD Catalyst 10.9, nVidia 358.50)<br></li><li><strong>DirectX:</strong> Version 9.0<br></li><li><strong>Storage:</strong> 4 GB available space</li></ul>'},\n",
       " 'mac_requirements': [],\n",
       " 'linux_requirements': [],\n",
       " 'developers': ['けーわいけーわい'],\n",
       " 'publishers': ['072 Project'],\n",
       " 'package_groups': [],\n",
       " 'platforms': {'windows': True, 'mac': False, 'linux': False},\n",
       " 'categories': [{'id': 10, 'description': 'Game demo'}],\n",
       " 'release_date': {'coming_soon': False, 'date': '7 Oct, 2024'},\n",
       " 'support_info': {'url': '', 'email': 'info@072project.com'},\n",
       " 'background': 'https://store.akamai.steamstatic.com/images/storepagebackground/app/3145730?t=1728289934',\n",
       " 'background_raw': 'https://store.akamai.steamstatic.com/images/storepagebackground/app/3145730?t=1728289934',\n",
       " 'content_descriptors': {'ids': [1, 3, 4, 5],\n",
       "  'notes': 'The game contains  non-consensual sex,  sexual acts,   genital nudity scenes, sexual assault, Interspecies Sex, LGBT, BDSM, etc. It is not suitable for all ages. All characters in this work are over 20 years old.'},\n",
       " 'ratings': {'dejus': {'rating_generated': '1',\n",
       "   'rating': '18',\n",
       "   'required_age': '18',\n",
       "   'banned': '0',\n",
       "   'use_age_gate': '0',\n",
       "   'descriptors': 'Nudez\\nViolência\\nTemas sensíveis'},\n",
       "  'steam_germany': {'rating_generated': '1',\n",
       "   'rating': 'BANNED',\n",
       "   'required_age': '2147483647',\n",
       "   'banned': '1',\n",
       "   'use_age_gate': '0',\n",
       "   'descriptors': 'Sexualisierte Gewalt / Sexual violence\\nGewalt'}},\n",
       " 'appid': 3145730}"
      ]
     },
     "execution_count": 9,
     "metadata": {},
     "output_type": "execute_result"
    }
   ],
   "source": [
    "app_details = apps_dict[apps_dict_keys[0]]\n",
    "app_details"
   ]
  },
  {
   "cell_type": "code",
   "execution_count": 10,
   "metadata": {},
   "outputs": [
    {
     "data": {
      "text/plain": [
       "True"
      ]
     },
     "execution_count": 10,
     "metadata": {},
     "output_type": "execute_result"
    }
   ],
   "source": [
    "app_details['is_free']"
   ]
  },
  {
   "cell_type": "code",
   "execution_count": 11,
   "metadata": {},
   "outputs": [
    {
     "data": {
      "text/plain": [
       "True"
      ]
     },
     "execution_count": 11,
     "metadata": {},
     "output_type": "execute_result"
    }
   ],
   "source": [
    "app_details['type'] == 'demo'"
   ]
  },
  {
   "cell_type": "code",
   "execution_count": 34,
   "metadata": {},
   "outputs": [
    {
     "data": {
      "text/plain": [
       "98101"
      ]
     },
     "execution_count": 34,
     "metadata": {},
     "output_type": "execute_result"
    }
   ],
   "source": [
    "filtered_apps = {appid: details for appid, details in apps_dict.items() if (\n",
    "    not details['is_free']) and details['type'] == 'game' and (not details['release_date']['coming_soon'])}\n",
    "len(filtered_apps)"
   ]
  },
  {
   "cell_type": "code",
   "execution_count": 13,
   "metadata": {},
   "outputs": [
    {
     "data": {
      "text/plain": [
       "237721"
      ]
     },
     "execution_count": 13,
     "metadata": {},
     "output_type": "execute_result"
    }
   ],
   "source": [
    "len(apps_dict)"
   ]
  },
  {
   "cell_type": "code",
   "execution_count": 38,
   "metadata": {},
   "outputs": [
    {
     "data": {
      "text/plain": [
       "{'type': 'game',\n",
       " 'name': 'The medical examination diary: Teamwork in Paradise.',\n",
       " 'steam_appid': 3145810,\n",
       " 'required_age': 0,\n",
       " 'is_free': False,\n",
       " 'detailed_description': '<p class=\"bb_paragraph\" >The story of &quot;The medical examination diary: Teamwork in Paradise.&quot;</p><p class=\"bb_paragraph\" >changes depending on the choices you make,</p><p class=\"bb_paragraph\" >It is a novel game with multiple endings.</p><p class=\"bb_paragraph\" ></p><p class=\"bb_paragraph\" >The illustrator [Moneti] draws the story,</p><p class=\"bb_paragraph\" >Please enjoy your days of practical training with these two beautiful girls.</p><p class=\"bb_paragraph\" >If you can keep them in a good mood,</p><p class=\"bb_paragraph\" >a special development may be waiting for you. ......?</p><p class=\"bb_paragraph\" ></p><p class=\"bb_paragraph\" ></p><h2 class=\"bb_tag\" ><strong>Feature</strong></h2><p class=\"bb_paragraph\" ></p><ul class=\"bb_ul\"><li><p class=\"bb_paragraph\" >Multiple endings with choices</p></li><li><p class=\"bb_paragraph\" >Smooth character animation via the E-mote system</p></li><li><p class=\"bb_paragraph\" >reathtaking FHD illustrations</p></li></ul><p class=\"bb_paragraph\" ></p><p class=\"bb_paragraph\" ></p><h2 class=\"bb_tag\" ><strong>Story</strong></h2><p class=\"bb_paragraph\" ></p><p class=\"bb_paragraph\" >How long has it been since I started my residency at Amagi University Hospital?</p><p class=\"bb_paragraph\" >After completing three months of training in the orthopedics department,</p><p class=\"bb_paragraph\" >where I was first assigned, I spent six months in the internal medicine department,</p><p class=\"bb_paragraph\" >where I was next assigned.</p><p class=\"bb_paragraph\" >I also successfully completed three months in emergency medicine and anesthesiology,</p><p class=\"bb_paragraph\" >and was able to get through the first year of my initial training.</p><p class=\"bb_paragraph\" ></p><p class=\"bb_paragraph\" >Perhaps I, Takuya Shirasawa, am blessed.</p><p class=\"bb_paragraph\" ></p><p class=\"bb_paragraph\" >My childhood friend Mio Akagi was working as a nurse in the orthopedic surgery department.</p><p class=\"bb_paragraph\" >Although I was unfamiliar with the life of a resident, thanks to Mio,</p><p class=\"bb_paragraph\" >I think I got off to a good start.</p><p class=\"bb_paragraph\" ></p><p class=\"bb_paragraph\" >Furthermore, Ryo Amagi, who was my senior at university in internal medicine.</p><p class=\"bb_paragraph\" >He was my senior in internal medicine at the university,</p><p class=\"bb_paragraph\" >Ryo Amagi, a.k.a. Oryo-senpai, served as my supervisor.</p><p class=\"bb_paragraph\" >Thanks to his guidance,</p><p class=\"bb_paragraph\" >I was able to get through my training in internal medicine without much trouble.</p><p class=\"bb_paragraph\" >Well, was it a reaction to the fact that the orthopedics and internal medicine were going well?</p><p class=\"bb_paragraph\" >I was unimaginably busy in the emergency and anesthesiology departments. ......</p><p class=\"bb_paragraph\" ></p><p class=\"bb_paragraph\" >Shirasawa\\'s next internship was in obstetrics and gynecology.</p><p class=\"bb_paragraph\" >In pursuit of his dream of becoming a pediatrician,</p><p class=\"bb_paragraph\" >What awaits him in the next step of his training?</p><p class=\"bb_paragraph\" >While being bewildered by the new environment,</p><p class=\"bb_paragraph\" >a new training program is about to begin.</p><p class=\"bb_paragraph\" ></p><p class=\"bb_paragraph\" ></p><h2 class=\"bb_tag\" ><strong>Character</strong></h2><p class=\"bb_paragraph\" ></p><p class=\"bb_paragraph\" ><strong>Mio Aakagi CV:Ono Ryouko</strong></p><p class=\"bb_paragraph\" ></p><p class=\"bb_paragraph\" ><span class=\"bb_img_ctn\"><img class=\"bb_img\" src=\"https://shared.akamai.steamstatic.com/store_item_assets/steam/apps/3145810/extras/8fd57d952492f3853ee509c76f64dc8d.avif?t=1740582016\" width=600 height=280 /></span></p><p class=\"bb_paragraph\" >She is good natured, serious, cheerful and accurate.</p><p class=\"bb_paragraph\" >She and the main character are childhood friends.</p><p class=\"bb_paragraph\" >She struggles to help the main character, Shirasawa,</p><p class=\"bb_paragraph\" >with his unfamiliar training, but she also has a clumsy side.</p><p class=\"bb_paragraph\" >She kindly offers to help him with his practical training,</p><p class=\"bb_paragraph\" >but something terrible happens. ......</p><p class=\"bb_paragraph\" ></p><p class=\"bb_paragraph\" ></p><p class=\"bb_paragraph\" ><strong>Ryo Amagi CV:Fujisawa Reika</strong></p><p class=\"bb_paragraph\" ></p><p class=\"bb_paragraph\" ><span class=\"bb_img_ctn\"><img class=\"bb_img\" src=\"https://shared.akamai.steamstatic.com/store_item_assets/steam/apps/3145810/extras/7aa657d136bcce832ba722c9767c28fc.avif?t=1740582016\" width=600 height=280 /></span></p><p class=\"bb_paragraph\" >She was the protagonist\\'s senior in college.</p><p class=\"bb_paragraph\" >She is also the niece of the president of Amagi University Hospital.</p><p class=\"bb_paragraph\" >She is a caring and reliable female doctor,</p><p class=\"bb_paragraph\" >but she shows a sadistic side to the main character, Shirasawa.</p><p class=\"bb_paragraph\" >And in this practical training,</p><p class=\"bb_paragraph\" >she also gives him some harsh guidance. ......</p><p class=\"bb_paragraph\" ></p><p class=\"bb_paragraph\" ></p><p class=\"bb_paragraph\" ><strong>Takuya Shirasawa</strong></p><p class=\"bb_paragraph\" ></p><p class=\"bb_paragraph\" >The protagonist of the film.</p>',\n",
       " 'about_the_game': '<p class=\"bb_paragraph\" >The story of &quot;The medical examination diary: Teamwork in Paradise.&quot;</p><p class=\"bb_paragraph\" >changes depending on the choices you make,</p><p class=\"bb_paragraph\" >It is a novel game with multiple endings.</p><p class=\"bb_paragraph\" ></p><p class=\"bb_paragraph\" >The illustrator [Moneti] draws the story,</p><p class=\"bb_paragraph\" >Please enjoy your days of practical training with these two beautiful girls.</p><p class=\"bb_paragraph\" >If you can keep them in a good mood,</p><p class=\"bb_paragraph\" >a special development may be waiting for you. ......?</p><p class=\"bb_paragraph\" ></p><p class=\"bb_paragraph\" ></p><h2 class=\"bb_tag\" ><strong>Feature</strong></h2><p class=\"bb_paragraph\" ></p><ul class=\"bb_ul\"><li><p class=\"bb_paragraph\" >Multiple endings with choices</p></li><li><p class=\"bb_paragraph\" >Smooth character animation via the E-mote system</p></li><li><p class=\"bb_paragraph\" >reathtaking FHD illustrations</p></li></ul><p class=\"bb_paragraph\" ></p><p class=\"bb_paragraph\" ></p><h2 class=\"bb_tag\" ><strong>Story</strong></h2><p class=\"bb_paragraph\" ></p><p class=\"bb_paragraph\" >How long has it been since I started my residency at Amagi University Hospital?</p><p class=\"bb_paragraph\" >After completing three months of training in the orthopedics department,</p><p class=\"bb_paragraph\" >where I was first assigned, I spent six months in the internal medicine department,</p><p class=\"bb_paragraph\" >where I was next assigned.</p><p class=\"bb_paragraph\" >I also successfully completed three months in emergency medicine and anesthesiology,</p><p class=\"bb_paragraph\" >and was able to get through the first year of my initial training.</p><p class=\"bb_paragraph\" ></p><p class=\"bb_paragraph\" >Perhaps I, Takuya Shirasawa, am blessed.</p><p class=\"bb_paragraph\" ></p><p class=\"bb_paragraph\" >My childhood friend Mio Akagi was working as a nurse in the orthopedic surgery department.</p><p class=\"bb_paragraph\" >Although I was unfamiliar with the life of a resident, thanks to Mio,</p><p class=\"bb_paragraph\" >I think I got off to a good start.</p><p class=\"bb_paragraph\" ></p><p class=\"bb_paragraph\" >Furthermore, Ryo Amagi, who was my senior at university in internal medicine.</p><p class=\"bb_paragraph\" >He was my senior in internal medicine at the university,</p><p class=\"bb_paragraph\" >Ryo Amagi, a.k.a. Oryo-senpai, served as my supervisor.</p><p class=\"bb_paragraph\" >Thanks to his guidance,</p><p class=\"bb_paragraph\" >I was able to get through my training in internal medicine without much trouble.</p><p class=\"bb_paragraph\" >Well, was it a reaction to the fact that the orthopedics and internal medicine were going well?</p><p class=\"bb_paragraph\" >I was unimaginably busy in the emergency and anesthesiology departments. ......</p><p class=\"bb_paragraph\" ></p><p class=\"bb_paragraph\" >Shirasawa\\'s next internship was in obstetrics and gynecology.</p><p class=\"bb_paragraph\" >In pursuit of his dream of becoming a pediatrician,</p><p class=\"bb_paragraph\" >What awaits him in the next step of his training?</p><p class=\"bb_paragraph\" >While being bewildered by the new environment,</p><p class=\"bb_paragraph\" >a new training program is about to begin.</p><p class=\"bb_paragraph\" ></p><p class=\"bb_paragraph\" ></p><h2 class=\"bb_tag\" ><strong>Character</strong></h2><p class=\"bb_paragraph\" ></p><p class=\"bb_paragraph\" ><strong>Mio Aakagi CV:Ono Ryouko</strong></p><p class=\"bb_paragraph\" ></p><p class=\"bb_paragraph\" ><span class=\"bb_img_ctn\"><img class=\"bb_img\" src=\"https://shared.akamai.steamstatic.com/store_item_assets/steam/apps/3145810/extras/8fd57d952492f3853ee509c76f64dc8d.avif?t=1740582016\" width=600 height=280 /></span></p><p class=\"bb_paragraph\" >She is good natured, serious, cheerful and accurate.</p><p class=\"bb_paragraph\" >She and the main character are childhood friends.</p><p class=\"bb_paragraph\" >She struggles to help the main character, Shirasawa,</p><p class=\"bb_paragraph\" >with his unfamiliar training, but she also has a clumsy side.</p><p class=\"bb_paragraph\" >She kindly offers to help him with his practical training,</p><p class=\"bb_paragraph\" >but something terrible happens. ......</p><p class=\"bb_paragraph\" ></p><p class=\"bb_paragraph\" ></p><p class=\"bb_paragraph\" ><strong>Ryo Amagi CV:Fujisawa Reika</strong></p><p class=\"bb_paragraph\" ></p><p class=\"bb_paragraph\" ><span class=\"bb_img_ctn\"><img class=\"bb_img\" src=\"https://shared.akamai.steamstatic.com/store_item_assets/steam/apps/3145810/extras/7aa657d136bcce832ba722c9767c28fc.avif?t=1740582016\" width=600 height=280 /></span></p><p class=\"bb_paragraph\" >She was the protagonist\\'s senior in college.</p><p class=\"bb_paragraph\" >She is also the niece of the president of Amagi University Hospital.</p><p class=\"bb_paragraph\" >She is a caring and reliable female doctor,</p><p class=\"bb_paragraph\" >but she shows a sadistic side to the main character, Shirasawa.</p><p class=\"bb_paragraph\" >And in this practical training,</p><p class=\"bb_paragraph\" >she also gives him some harsh guidance. ......</p><p class=\"bb_paragraph\" ></p><p class=\"bb_paragraph\" ></p><p class=\"bb_paragraph\" ><strong>Takuya Shirasawa</strong></p><p class=\"bb_paragraph\" ></p><p class=\"bb_paragraph\" >The protagonist of the film.</p>',\n",
       " 'short_description': '&quot;The medical examination diary: Teamwork in Paradise.&quot; is a novel game. Enjoy new episodes by the heroines of &quot;The medical examination diary: the exciting days of me and my senpai&quot; and &quot;The 2nd page of the medical examination diary: Another story of exciting days of me and my senpai&quot;.',\n",
       " 'supported_languages': 'English, Simplified Chinese, Traditional Chinese, Japanese<strong>*</strong><br><strong>*</strong>languages with full audio support',\n",
       " 'header_image': 'https://shared.akamai.steamstatic.com/store_item_assets/steam/apps/3145810/header.jpg?t=1740582016',\n",
       " 'capsule_image': 'https://shared.akamai.steamstatic.com/store_item_assets/steam/apps/3145810/capsule_231x87.jpg?t=1740582016',\n",
       " 'capsule_imagev5': 'https://shared.akamai.steamstatic.com/store_item_assets/steam/apps/3145810/capsule_184x69.jpg?t=1740582016',\n",
       " 'website': None,\n",
       " 'pc_requirements': {'minimum': '<strong>Minimum:</strong><br><ul class=\"bb_ul\"><li>Requires a 64-bit processor and operating system<br></li><li><strong>OS:</strong> Windows 10 64bit, Windows 11 (Windows RT and 10 Mobile are not supported)<br></li><li><strong>Processor:</strong> Intel Core i Processor Series (Low Voltage Processor is not supported)<br></li><li><strong>Memory:</strong> 4 GB RAM<br></li><li><strong>Graphics:</strong> HD Graphics 620<br></li><li><strong>DirectX:</strong> Version 11<br></li><li><strong>Storage:</strong> 3 GB available space<br></li><li><strong>Sound Card:</strong> A sound card that supports DirectSound<br></li><li><strong>Additional Notes:</strong> A pointing device required</li></ul>',\n",
       "  'recommended': '<strong>Recommended:</strong><br><ul class=\"bb_ul\"><li>Requires a 64-bit processor and operating system<br></li><li><strong>OS:</strong> Windows 10 64bit, Windows 11 (Windows RT and 10 Mobile are not supported)<br></li><li><strong>Processor:</strong> Intel Core i Processor Series (Low Voltage Processor is not supported)<br></li><li><strong>Memory:</strong> 8 GB RAM<br></li><li><strong>Graphics:</strong> GeForce GT 1030<br></li><li><strong>DirectX:</strong> Version 11<br></li><li><strong>Storage:</strong> 4 GB available space<br></li><li><strong>Sound Card:</strong> A sound card that supports DirectSound<br></li><li><strong>Additional Notes:</strong> A pointing device required</li></ul>'},\n",
       " 'mac_requirements': {'minimum': '<strong>Minimum:</strong><br><ul class=\"bb_ul\"></ul>',\n",
       "  'recommended': '<strong>Recommended:</strong><br><ul class=\"bb_ul\"></ul>'},\n",
       " 'linux_requirements': {'minimum': '<strong>Minimum:</strong><br><ul class=\"bb_ul\"></ul>',\n",
       "  'recommended': '<strong>Recommended:</strong><br><ul class=\"bb_ul\"></ul>'},\n",
       " 'developers': ['iMel'],\n",
       " 'publishers': ['iMel'],\n",
       " 'price_overview': {'currency': 'BRL',\n",
       "  'initial': 2350,\n",
       "  'final': 2350,\n",
       "  'discount_percent': 0,\n",
       "  'initial_formatted': '',\n",
       "  'final_formatted': 'R$ 23,50'},\n",
       " 'packages': [1116769],\n",
       " 'package_groups': [{'name': 'default',\n",
       "   'title': 'Buy The medical examination diary: Teamwork in Paradise.',\n",
       "   'description': '',\n",
       "   'selection_text': 'Select a purchase option',\n",
       "   'save_text': '',\n",
       "   'display_type': 0,\n",
       "   'is_recurring_subscription': 'false',\n",
       "   'subs': [{'packageid': 1116769,\n",
       "     'percent_savings_text': ' ',\n",
       "     'percent_savings': 0,\n",
       "     'option_text': 'The medical examination diary: Teamwork in Paradise. - R$ 23,50',\n",
       "     'option_description': '',\n",
       "     'can_get_free_license': '0',\n",
       "     'is_free_license': False,\n",
       "     'price_in_cents_with_discount': 2350}]}],\n",
       " 'platforms': {'windows': True, 'mac': False, 'linux': False},\n",
       " 'categories': [{'id': 2, 'description': 'Single-player'},\n",
       "  {'id': 62, 'description': 'Family Sharing'}],\n",
       " 'genres': [{'id': '25', 'description': 'Adventure'},\n",
       "  {'id': '23', 'description': 'Indie'}],\n",
       " 'screenshots': [{'id': 0,\n",
       "   'path_thumbnail': 'https://shared.akamai.steamstatic.com/store_item_assets/steam/apps/3145810/ss_d76cb07e2f3ee32580fdb4905a5872dbbf2868c1.600x338.jpg?t=1740582016',\n",
       "   'path_full': 'https://shared.akamai.steamstatic.com/store_item_assets/steam/apps/3145810/ss_d76cb07e2f3ee32580fdb4905a5872dbbf2868c1.1920x1080.jpg?t=1740582016'},\n",
       "  {'id': 1,\n",
       "   'path_thumbnail': 'https://shared.akamai.steamstatic.com/store_item_assets/steam/apps/3145810/ss_a243b0b7188305a3153abc117456d927154e73a7.600x338.jpg?t=1740582016',\n",
       "   'path_full': 'https://shared.akamai.steamstatic.com/store_item_assets/steam/apps/3145810/ss_a243b0b7188305a3153abc117456d927154e73a7.1920x1080.jpg?t=1740582016'},\n",
       "  {'id': 2,\n",
       "   'path_thumbnail': 'https://shared.akamai.steamstatic.com/store_item_assets/steam/apps/3145810/ss_65458a5a43aac124a9d20e86b410caea071c9f7d.600x338.jpg?t=1740582016',\n",
       "   'path_full': 'https://shared.akamai.steamstatic.com/store_item_assets/steam/apps/3145810/ss_65458a5a43aac124a9d20e86b410caea071c9f7d.1920x1080.jpg?t=1740582016'},\n",
       "  {'id': 3,\n",
       "   'path_thumbnail': 'https://shared.akamai.steamstatic.com/store_item_assets/steam/apps/3145810/ss_1a4ae7e5b30c5149e8b2239bcbdfca11a554c385.600x338.jpg?t=1740582016',\n",
       "   'path_full': 'https://shared.akamai.steamstatic.com/store_item_assets/steam/apps/3145810/ss_1a4ae7e5b30c5149e8b2239bcbdfca11a554c385.1920x1080.jpg?t=1740582016'},\n",
       "  {'id': 4,\n",
       "   'path_thumbnail': 'https://shared.akamai.steamstatic.com/store_item_assets/steam/apps/3145810/ss_c101624292852f87be909eea6e8a34fcd564e0ab.600x338.jpg?t=1740582016',\n",
       "   'path_full': 'https://shared.akamai.steamstatic.com/store_item_assets/steam/apps/3145810/ss_c101624292852f87be909eea6e8a34fcd564e0ab.1920x1080.jpg?t=1740582016'}],\n",
       " 'movies': [{'id': 257097826,\n",
       "   'name': 'PV_en',\n",
       "   'thumbnail': 'https://shared.akamai.steamstatic.com/store_item_assets/steam/apps/257097826/88ccc8c63efec445c393fcddae93d033962cb76d/movie_600x337.jpg?t=1740087402',\n",
       "   'webm': {'480': 'http://video.akamai.steamstatic.com/store_trailers/257097826/movie480_vp9.webm?t=1740087402',\n",
       "    'max': 'http://video.akamai.steamstatic.com/store_trailers/257097826/movie_max_vp9.webm?t=1740087402'},\n",
       "   'mp4': {'480': 'http://video.akamai.steamstatic.com/store_trailers/257097826/movie480.mp4?t=1740087402',\n",
       "    'max': 'http://video.akamai.steamstatic.com/store_trailers/257097826/movie_max.mp4?t=1740087402'},\n",
       "   'highlight': True}],\n",
       " 'release_date': {'coming_soon': False, 'date': '26 Feb, 2025'},\n",
       " 'support_info': {'url': '', 'email': 'support@imel.co.jp'},\n",
       " 'background': 'https://store.akamai.steamstatic.com/images/storepagebackground/app/3145810?t=1740582016',\n",
       " 'background_raw': 'https://store.akamai.steamstatic.com/images/storepagebackground/app/3145810?t=1740582016',\n",
       " 'content_descriptors': {'ids': [1, 3, 4, 5],\n",
       "  'notes': 'This game contains a small number of CGs, including sexual of some characters.\\r\\nScenes of sexual activity are not included.\\r\\nAll characters involved in sexual content are over the age of 18.\\r\\nThe store page directly mentions information about other games that are marked as \"Adults Only.\"\\r\\nThe assets of this app contain the names and some content from other adult games.'},\n",
       " 'ratings': {'dejus': {'rating_generated': '1',\n",
       "   'rating': '12',\n",
       "   'required_age': '12',\n",
       "   'banned': '0',\n",
       "   'use_age_gate': '0',\n",
       "   'descriptors': 'Conteúdo sexual'},\n",
       "  'steam_germany': {'rating_generated': '1',\n",
       "   'rating': '12',\n",
       "   'required_age': '12',\n",
       "   'banned': '0',\n",
       "   'use_age_gate': '0',\n",
       "   'descriptors': 'Sexuelle Andeutungen'}},\n",
       " 'appid': 3145810}"
      ]
     },
     "execution_count": 38,
     "metadata": {},
     "output_type": "execute_result"
    }
   ],
   "source": [
    "filtered_apps[list(filtered_apps.keys())[15]]"
   ]
  },
  {
   "cell_type": "code",
   "execution_count": 39,
   "metadata": {},
   "outputs": [],
   "source": [
    "import json\n",
    "\n",
    "with open('filtered_apps_dict.json', 'w') as f:\n",
    "  json.dump(filtered_apps, f)"
   ]
  },
  {
   "cell_type": "code",
   "execution_count": 1,
   "metadata": {},
   "outputs": [],
   "source": [
    "import json\n",
    "with open('filtered_apps_dict.json', 'r') as f:\n",
    "  filtered_apps = json.load(f)"
   ]
  },
  {
   "cell_type": "code",
   "execution_count": 2,
   "metadata": {},
   "outputs": [],
   "source": [
    "with open('filtered_apps_ids.json', 'w') as f:\n",
    "  json.dump(list(filtered_apps.keys()), f)"
   ]
  }
 ],
 "metadata": {
  "kernelspec": {
   "display_name": "Python 3",
   "language": "python",
   "name": "python3"
  },
  "language_info": {
   "codemirror_mode": {
    "name": "ipython",
    "version": 3
   },
   "file_extension": ".py",
   "mimetype": "text/x-python",
   "name": "python",
   "nbconvert_exporter": "python",
   "pygments_lexer": "ipython3",
   "version": "3.12.11"
  }
 },
 "nbformat": 4,
 "nbformat_minor": 2
}
