{
 "cells": [
  {
   "cell_type": "code",
   "execution_count": 10,
   "id": "c03e6883",
   "metadata": {},
   "outputs": [],
   "source": [
    "import steamreviews\n",
    "import json\n",
    "import requests\n",
    "from typing import List"
   ]
  },
  {
   "cell_type": "code",
   "execution_count": 4,
   "id": "0331bac7",
   "metadata": {},
   "outputs": [
    {
     "name": "stdout",
     "output_type": "stream",
     "text": [
      "Loaded 262310 apps from steam_applist.json\n"
     ]
    }
   ],
   "source": [
    "with open('steam_applist.json', 'r') as f:\n",
    "  app_list = json.load(f)\n",
    "\n",
    "print(\n",
    "    f\"Loaded {len(app_list['applist']['apps'])} apps from steam_applist.json\")"
   ]
  },
  {
   "cell_type": "code",
   "execution_count": 6,
   "id": "ebc8058b",
   "metadata": {},
   "outputs": [],
   "source": [
    "app_ids = [app['appid'] for app in app_list[\"applist\"][\"apps\"]]"
   ]
  },
  {
   "cell_type": "code",
   "execution_count": 8,
   "id": "41da770d",
   "metadata": {},
   "outputs": [
    {
     "data": {
      "text/plain": [
       "[3973420,\n",
       " 3969970,\n",
       " 3968510,\n",
       " 3968490,\n",
       " 3968310,\n",
       " 3968150,\n",
       " 3968140,\n",
       " 3968020,\n",
       " 3967840,\n",
       " 3967630]"
      ]
     },
     "execution_count": 8,
     "metadata": {},
     "output_type": "execute_result"
    }
   ],
   "source": [
    "app_ids_reversed = list(reversed(app_ids))\n",
    "app_ids_reversed[:10]"
   ]
  },
  {
   "cell_type": "code",
   "execution_count": null,
   "id": "d88371fa",
   "metadata": {},
   "outputs": [
    {
     "name": "stdout",
     "output_type": "stream",
     "text": [
      "{\n",
      "    \"3967630\": {\n",
      "        \"success\": true,\n",
      "        \"data\": {\n",
      "            \"type\": \"demo\",\n",
      "            \"name\": \"GraveNight Demo\",\n",
      "            \"steam_appid\": 3967630,\n",
      "            \"required_age\": 0,\n",
      "            \"is_free\": true,\n",
      "            \"detailed_description\": \"\",\n",
      "            \"about_the_game\": \"\",\n",
      "            \"short_description\": \"\",\n",
      "            \"fullgame\": {\n",
      "                \"appid\": \"3966460\",\n",
      "                \"name\": \"GraveNight\"\n",
      "            },\n",
      "            \"header_image\": \"https://shared.akamai.steamstatic.com/store_item_assets/steam/apps/3967630/390562ab56fc66f4bf641a8713c1a46c5f90f702/header.jpg?t=1755703546\",\n",
      "            \"capsule_image\": \"https://shared.akamai.steamstatic.com/store_item_assets/steam/apps/3967630/c0e1c2d84e73377292efbaf1f3cb0b0d623e2262/capsule_231x87.jpg?t=1755703546\",\n",
      "            \"capsule_imagev5\": \"https://shared.akamai.steamstatic.com/store_item_assets/steam/apps/3967630/c0e1c2d84e73377292efbaf1f3cb0b0d623e2262/capsule_184x69.jpg?t=1755703546\",\n",
      "            \"website\": null,\n",
      "            \"pc_requirements\": {\n",
      "                \"minimum\": \"<strong>Minimum:</strong><br><ul class=\\\"bb_ul\\\"><li><strong>OS:</strong> 10<br></li><li><strong>Processor:</strong> Intel Core I3-9100F 3.6 GHz<br></li><li><strong>Memory:</strong> 8 MB RAM<br></li><li><strong>Graphics:</strong> Nvidia GeForce GTX 1660 TI<br></li><li><strong>DirectX:</strong> Version 10<br></li><li><strong>Storage:</strong> 5 MB available space</li></ul>\",\n",
      "                \"recommended\": \"<strong>Recommended:</strong><br><ul class=\\\"bb_ul\\\"><li><strong>OS:</strong> 10<br></li><li><strong>Processor:</strong> Intel Core i5-12600 ~3.3GHz<br></li><li><strong>Memory:</strong> 8 MB RAM<br></li><li><strong>Graphics:</strong> Nvidia GeForce RTX 3070<br></li><li><strong>DirectX:</strong> Version 10<br></li><li><strong>Storage:</strong> 5 MB available space</li></ul>\"\n",
      "            },\n",
      "            \"mac_requirements\": [],\n",
      "            \"linux_requirements\": [],\n",
      "            \"developers\": [\n",
      "                \"Ragdoll Games\"\n",
      "            ],\n",
      "            \"publishers\": [\n",
      "                \"Ragdoll Games\"\n",
      "            ],\n",
      "            \"package_groups\": [],\n",
      "            \"platforms\": {\n",
      "                \"windows\": true,\n",
      "                \"mac\": false,\n",
      "                \"linux\": false\n",
      "            },\n",
      "            \"categories\": [\n",
      "                {\n",
      "                    \"id\": 10,\n",
      "                    \"description\": \"Game demo\"\n",
      "                }\n",
      "            ],\n",
      "            \"release_date\": {\n",
      "                \"coming_soon\": true,\n",
      "                \"date\": \"Coming soon\"\n",
      "            },\n",
      "            \"support_info\": {\n",
      "                \"url\": \"https://ragdoll-games.com/\",\n",
      "                \"email\": \"contact@ragdoll-games.com\"\n",
      "            },\n",
      "            \"background\": \"https://store.akamai.steamstatic.com/images/storepagebackground/app/3967630?t=1755703546\",\n",
      "            \"background_raw\": \"https://store.akamai.steamstatic.com/images/storepagebackground/app/3967630?t=1755703546\",\n",
      "            \"content_descriptors\": {\n",
      "                \"ids\": [\n",
      "                    2,\n",
      "                    5\n",
      "                ],\n",
      "                \"notes\": null\n",
      "            },\n",
      "            \"ratings\": {\n",
      "                \"dejus\": {\n",
      "                    \"rating_generated\": \"1\",\n",
      "                    \"rating\": \"16\",\n",
      "                    \"required_age\": \"16\",\n",
      "                    \"banned\": \"0\",\n",
      "                    \"use_age_gate\": \"0\",\n",
      "                    \"descriptors\": \"Viol\\u00eancia Extrema\\nLinguagem impr\\u00f3pria\\nMedo\"\n",
      "                },\n",
      "                \"steam_germany\": {\n",
      "                    \"rating_generated\": \"1\",\n",
      "                    \"rating\": \"18\",\n",
      "                    \"required_age\": \"18\",\n",
      "                    \"banned\": \"0\",\n",
      "                    \"use_age_gate\": \"0\",\n",
      "                    \"descriptors\": \"Drastische Gewalt\\nDerbe Sprache\"\n",
      "                }\n",
      "            }\n",
      "        }\n",
      "    }\n",
      "}\n"
     ]
    }
   ],
   "source": [
    "def download_app_details(app_ids_batch: List[int]):\n",
    "    app_details_by_app_id = {}\n",
    "\n",
    "    url = \"https://store.steampowered.com/api/appdetails\"\n",
    "\n",
    "    params = {\"appids\": app_ids_batch}\n",
    "    try:\n",
    "        response = requests.get(url, params=params)\n",
    "        if response.status_code == 200:\n",
    "            app_data = response.json()\n",
    "\n",
    "            app_details_by_app_id = {k: v['data']\n",
    "                                      for k, v in app_data.items()}\n",
    "            return app_details_by_app_id\n",
    "        else:\n",
    "            print(f\"Failed to retrieve details for app ID {app_ids_batch}\")\n",
    "    except requests.exceptions.RequestException as e:\n",
    "        print(f\"Error making request for app ID {app_ids_batch}: {e}\")\n",
    "\n",
    "def download_app_details(app_ids_batch: List[int]):\n",
    "    app_details_by_app_id = {}\n",
    "  \n",
    "    url = \"https://store.steampowered.com/api/appdetails\"\n",
    "\n",
    "    for app_id in app_ids_batch:\n",
    "        params = {\"appids\": app_ids_batch}\n",
    "        try:\n",
    "            response = requests.get(url, params=params)\n",
    "            if response.status_code == 200:\n",
    "                app_data = response.json()\n",
    "                \n",
    "                app_details_by_app_id = {k: v['data'] for k, v in app_data.items()}\n",
    "                return app_details_by_app_id\n",
    "                # Process and save app_data as needed\n",
    "            else:\n",
    "                print(f\"Failed to retrieve details for app ID {app_id}\")\n",
    "        except requests.exceptions.RequestException as e:\n",
    "            print(f\"Error making request for app ID {app_id}: {e}\")\n",
    "    \n",
    "    return app_details_by_app_id\n",
    "  \n",
    "\n",
    "result = download_app_details(app_ids_reversed[:10])"
   ]
  },
  {
   "cell_type": "code",
   "execution_count": null,
   "id": "8af54398",
   "metadata": {},
   "outputs": [
    {
     "data": {
      "text/plain": [
       "{'type': 'demo',\n",
       " 'name': 'GraveNight Demo',\n",
       " 'steam_appid': 3967630,\n",
       " 'required_age': 0,\n",
       " 'is_free': True,\n",
       " 'detailed_description': '',\n",
       " 'about_the_game': '',\n",
       " 'short_description': '',\n",
       " 'fullgame': {'appid': '3966460', 'name': 'GraveNight'},\n",
       " 'header_image': 'https://shared.akamai.steamstatic.com/store_item_assets/steam/apps/3967630/390562ab56fc66f4bf641a8713c1a46c5f90f702/header.jpg?t=1755703546',\n",
       " 'capsule_image': 'https://shared.akamai.steamstatic.com/store_item_assets/steam/apps/3967630/c0e1c2d84e73377292efbaf1f3cb0b0d623e2262/capsule_231x87.jpg?t=1755703546',\n",
       " 'capsule_imagev5': 'https://shared.akamai.steamstatic.com/store_item_assets/steam/apps/3967630/c0e1c2d84e73377292efbaf1f3cb0b0d623e2262/capsule_184x69.jpg?t=1755703546',\n",
       " 'website': None,\n",
       " 'pc_requirements': {'minimum': '<strong>Minimum:</strong><br><ul class=\"bb_ul\"><li><strong>OS:</strong> 10<br></li><li><strong>Processor:</strong> Intel Core I3-9100F 3.6 GHz<br></li><li><strong>Memory:</strong> 8 MB RAM<br></li><li><strong>Graphics:</strong> Nvidia GeForce GTX 1660 TI<br></li><li><strong>DirectX:</strong> Version 10<br></li><li><strong>Storage:</strong> 5 MB available space</li></ul>',\n",
       "  'recommended': '<strong>Recommended:</strong><br><ul class=\"bb_ul\"><li><strong>OS:</strong> 10<br></li><li><strong>Processor:</strong> Intel Core i5-12600 ~3.3GHz<br></li><li><strong>Memory:</strong> 8 MB RAM<br></li><li><strong>Graphics:</strong> Nvidia GeForce RTX 3070<br></li><li><strong>DirectX:</strong> Version 10<br></li><li><strong>Storage:</strong> 5 MB available space</li></ul>'},\n",
       " 'mac_requirements': [],\n",
       " 'linux_requirements': [],\n",
       " 'developers': ['Ragdoll Games'],\n",
       " 'publishers': ['Ragdoll Games'],\n",
       " 'package_groups': [],\n",
       " 'platforms': {'windows': True, 'mac': False, 'linux': False},\n",
       " 'categories': [{'id': 10, 'description': 'Game demo'}],\n",
       " 'release_date': {'coming_soon': True, 'date': 'Coming soon'},\n",
       " 'support_info': {'url': 'https://ragdoll-games.com/',\n",
       "  'email': 'contact@ragdoll-games.com'},\n",
       " 'background': 'https://store.akamai.steamstatic.com/images/storepagebackground/app/3967630?t=1755703546',\n",
       " 'background_raw': 'https://store.akamai.steamstatic.com/images/storepagebackground/app/3967630?t=1755703546',\n",
       " 'content_descriptors': {'ids': [2, 5], 'notes': None},\n",
       " 'ratings': {'dejus': {'rating_generated': '1',\n",
       "   'rating': '16',\n",
       "   'required_age': '16',\n",
       "   'banned': '0',\n",
       "   'use_age_gate': '0',\n",
       "   'descriptors': 'Violência Extrema\\nLinguagem imprópria\\nMedo'},\n",
       "  'steam_germany': {'rating_generated': '1',\n",
       "   'rating': '18',\n",
       "   'required_age': '18',\n",
       "   'banned': '0',\n",
       "   'use_age_gate': '0',\n",
       "   'descriptors': 'Drastische Gewalt\\nDerbe Sprache'}}}"
      ]
     },
     "execution_count": 21,
     "metadata": {},
     "output_type": "execute_result"
    }
   ],
   "source": [
    "result['3967630']['data'].k"
   ]
  }
 ],
 "metadata": {
  "kernelspec": {
   "display_name": "Python 3",
   "language": "python",
   "name": "python3"
  },
  "language_info": {
   "codemirror_mode": {
    "name": "ipython",
    "version": 3
   },
   "file_extension": ".py",
   "mimetype": "text/x-python",
   "name": "python",
   "nbconvert_exporter": "python",
   "pygments_lexer": "ipython3",
   "version": "3.12.11"
  }
 },
 "nbformat": 4,
 "nbformat_minor": 5
}
